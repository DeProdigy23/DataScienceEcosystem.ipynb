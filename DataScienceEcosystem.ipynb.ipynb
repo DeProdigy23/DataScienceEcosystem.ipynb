{
 "cells": [
  {
   "cell_type": "markdown",
   "id": "0d35240c-ff4b-4c4b-a490-4a3103c8099e",
   "metadata": {},
   "source": [
    "# Data Science Tools and Ecosystem"
   ]
  },
  {
   "cell_type": "markdown",
   "id": "72a5ae31-1930-44ac-8cff-2089ce809b11",
   "metadata": {},
   "source": [
    "INTRODUCTION: In this notebook, Data Science Tools and Ecosystem are summarized\n",
    "Data science tools help to find solutions to problems whether business or otherwise by analysing gathered data using the appropriate tools \n",
    "and then telling stories to communicate the findings to the relevant stakeholders.\n",
    "There are tools for data data collection, transformation, visualization, and management.\n",
    "Some of the data tools that can be used by data scientists are jupyter notebook, Matlab, apache spark, keras, matplotlib, MySQL,Apache cassaandra,\n",
    "Hadoop file system,cloud file system, Apache airflow, etc."
   ]
  },
  {
   "cell_type": "code",
   "execution_count": null,
   "id": "00177483-d051-4f93-ae41-e17eb779d993",
   "metadata": {},
   "outputs": [],
   "source": [
    "**OBJECTIVE**\n",
    "-  List of popular language for data science\n",
    "-  List od data science libraries\n",
    "-  To create codes to solve arithmetic expression\n"
   ]
  },
  {
   "cell_type": "code",
   "execution_count": null,
   "id": "d2a61894-a9a9-4dcf-b083-d0987f979d76",
   "metadata": {},
   "outputs": [],
   "source": [
    "Some of the popular languages that Data Scientists use are:\n",
    "    1. Python\n",
    "    2. R\n",
    "    3. Scala\n",
    "    4. Julia\n",
    "    5. SQL\n",
    "    6.  Java\n",
    "    7. C++\n",
    "    "
   ]
  },
  {
   "cell_type": "markdown",
   "id": "241cc731-c76e-49a7-aa2b-baa1b68df79f",
   "metadata": {},
   "source": [
    "Data Science Libraries: Some of the commonly used libraries used by Data Scientists include:\n",
    "    1. Pixie dust\n",
    "    2. Matplotlib\n",
    "    3.  Tensorflow\n",
    "    4. Anaconda\n",
    "    5. NumPy\n",
    "    6. Pandas\n",
    "    7. Apache cassandra\n",
    "    8. Seldon\n",
    "    9. Seaborn\n",
    "    10. Keras\n"
   ]
  },
  {
   "cell_type": "markdown",
   "id": "04aa472a-181f-4ee7-b37b-6e2e0100a237",
   "metadata": {},
   "source": [
    "| Data Science Tools|\n",
    "The three development environment open source tools use in data science are:\n",
    "|MY SQL for data management|\n",
    "|Apache Airflow for integration & transformation|\n",
    "|Pixie Dust for data visualization|"
   ]
  },
  {
   "cell_type": "markdown",
   "id": "ca12b9d0-0be5-4e99-94ae-e06b6bdd4cb0",
   "metadata": {},
   "source": [
    "### Below are a few examples of evaluating arithmetic expressions in Python"
   ]
  },
  {
   "cell_type": "code",
   "execution_count": 6,
   "id": "c3a3c48f-ac3d-422a-becc-bdda148702a3",
   "metadata": {
    "tags": []
   },
   "outputs": [
    {
     "data": {
      "text/plain": [
       "17"
      ]
     },
     "execution_count": 6,
     "metadata": {},
     "output_type": "execute_result"
    }
   ],
   "source": [
    "'This a simple arithmetic expression to mutiply then add integers'\n",
    "(3*4)+5"
   ]
  },
  {
   "cell_type": "code",
   "execution_count": 26,
   "id": "a1431f37-112d-425f-97fd-a0854920e089",
   "metadata": {
    "tags": []
   },
   "outputs": [
    {
     "name": "stdin",
     "output_type": "stream",
     "text": [
      "Enter time in minute 200\n"
     ]
    },
    {
     "name": "stdout",
     "output_type": "stream",
     "text": [
      "Hours is 3\n",
      "Minutes is 20\n"
     ]
    },
    {
     "data": {
      "text/plain": [
       "'200minutes'"
      ]
     },
     "execution_count": 26,
     "metadata": {},
     "output_type": "execute_result"
    }
   ],
   "source": [
    "\"This will convert 200 minutes to hours by diving by 60\"\n",
    "time= int(input(\"Enter time in minute\"))\n",
    "hour=time//60\n",
    "minute= time%60\n",
    "print(\"Hours is\",hour)\n",
    "print(\"Minutes is\",minute)\n"
   ]
  },
  {
   "cell_type": "markdown",
   "id": "4bde06a3-5dde-4446-b716-86f820ac3a8f",
   "metadata": {},
   "source": [
    "## Author\n",
    "Richard Taiwo"
   ]
  }
 ],
 "metadata": {
  "kernelspec": {
   "display_name": "Python",
   "language": "python",
   "name": "conda-env-python-py"
  },
  "language_info": {
   "codemirror_mode": {
    "name": "ipython",
    "version": 3
   },
   "file_extension": ".py",
   "mimetype": "text/x-python",
   "name": "python",
   "nbconvert_exporter": "python",
   "pygments_lexer": "ipython3",
   "version": "3.7.12"
  }
 },
 "nbformat": 4,
 "nbformat_minor": 5
}
